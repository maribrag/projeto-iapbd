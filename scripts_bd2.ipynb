LOCUS       X13140                  2249 bp    DNA     linear   PLN 14-NOV-2006
DEFINITION  Neurospora crassa ubiquitin gene.
ACCESSION   X13140
VERSION     X13140.1
KEYWORDS    ubiquitin.
SOURCE      Neurospora crassa
  ORGANISM  Neurospora crassa
            Eukaryota; Fungi; Dikarya; Ascomycota; Pezizomycotina;
            Sordariomycetes; Sordariomycetidae; Sordariales; Sordariaceae;
            Neurospora.
REFERENCE   1  (bases 1 to 2249)
  AUTHORS   Taccioli,G.E., Grotewold,E., Aisemberg,G.O. and Judewicz,N.D.
  TITLE     Ubiquitin expression in Neurospora crassa: cloning and sequencing
            of a polyubiquitin gene
  JOURNAL   Nucleic Acids Res. 17 (15), 6153-6165 (1989)
   PUBMED   2549509
REFERENCE   2  (bases 794 to 1083)
  AUTHORS   Judewicz,N.D.
  TITLE     Direct Submission
  JOURNAL   Submitted (06-OCT-1988) Judewicz N.D., Inst. Investigaciones
            Ingeniera Genetica y Biol Molecular, Vuelta de Obligado 2490, 1428
            Buenos Aires, Argentina
REFERENCE   3  (bases 650 to 1795)
  AUTHORS   Judewicz,N.
  TITLE     Direct Submission
  JOURNAL   Submitted (27-DEC-1988)
REFERENCE   4  (bases 1 to 2249)
  AUTHORS   Judewicz,N.
  TITLE     Direct Submission
  JOURNAL   Submitted (25-SEP-1989)
FEATURES             Location/Qualifiers
     source          1..2249
                     /organism="Neurospora crassa"
                     /mol_type="genomic DNA"
                     /strain="StL74-A"
                     /db_xref="taxon:5141"
                     /clone="lambda NcD."
                     /clone_lib="lambda J1-74A"
     exon            619..817
                     /number=1
     CDS             join(796..817,887..1782)
                     /codon_start=1
                     /product="ubiquitin"
                     /protein_id="CAA31530.1"
                     /db_xref="GOA:P0CG70"
                     /db_xref="InterPro:IPR000626"
                     /db_xref="InterPro:IPR019954"
                     /db_xref="InterPro:IPR019955"
                     /db_xref="InterPro:IPR019956"
                     /db_xref="UniProtKB/Swiss-Prot:P0CG70"
                     /translation="MQIFVKTLTGKTITLEVESSDTIDNVKQKIQDKEGIPPDQQRLI
                     FAGKQLEDGRTLSDYNIQKESTLHLVLRLRGGMQIFVKTLTGKTITLEVESSDTIDNV
                     KQKIQDKEGIPPDQQRLIFAGKQLEDGRTLSDYNIQKESTLHLVLRLRGGMQIFVKTL
                     TGKTITLEVESSDTIDNVKQKIQDKEGIPPDQQRLIFAGKQLEDGRTLSDYNIQKEST
                     LHLVLRLRGGMQIFVKTLTGKTITLEVESSDTIDNVKQKIQDKEGIPPDQQRLIFAGK
                     QLEDGRTLSDYNIQKESTLHLVLRLRGGQ"
     intron          818..886
                     /number=1
     exon            887..>1782
                     /number=2
     regulatory      1957..1962
                     /regulatory_class="polyA_signal_sequence"
ORIGIN      
        1 aagcttgtca agatgctggc aaagtaacga gaagtcgaga tggcactctc ggatttgtaa
       61 acaactgaaa ctcgaaggtc cgtcgtccag ccacatgcag atcattcttt ggcttattca
      121 tccagagaga acctaactga agcagggcaa acagccgctg aggtgactga cgcattgact
      181 gggcaaacgg ctgggtgagt gcccgccact gcagaaggcg ttgacagtgc gatcaatcag
      241 ccgcggtcac tgttgggggg gatgtccaac cactcctgcc aacgggcaac agccaacagt
      301 caagggggaa actgtcgtct gactggcttc ttctcgcgcc ttccctccac ttctctgtca
      361 ctcccaaccg ccaagtggct tgtgcgtggc ctgtcagtga aggtgagtga cacaccactc
      421 acaccgtggc aggcgttgca aacggaccag tgacgatcga cttgggacct ggcacctttc
      481 cgcttccact ccagtcccgt cacctcttcc cttcactcag ccccgcttcg ttccctttcc
      541 caggagtgga agcctggcct ccgaagttcg ccatcctgat tcctgccact tccgccgcag
      601 ccagcacctg aacctactta tttaatcctc cccgcccatc tgcatccccg attccatttc
      661 ttccgctttc accatctctc tccatcgcca tcatcgcagg agtgttcatc cacgcacata
      721 tcattcccgc cactcgattc tagtcatttc gcttcatcca tcaacagtcc attcgtccac
      781 tgcacaaccc ccatcatgca gattttcgtc aagacttgta agttatgcac gctcaccgca
      841 tcatcacttt accatcgatc gaccgatgct aactatctct tcgcagtgac cggcaagacc
      901 atcaccctcg aggtcgagtc gtcggatacc attgacaatg tcaagcaaaa gattcaggac
      961 aaggagggca ttccccccga ccagcagcgc ttgatttttg ccggcaagca gttggaggat
     1021 ggccgcaccc tttccgacta caacatccag aaggagtcta ccctccacct tgtcctccgc
     1081 ctgcgcggtg gtatgcaaat cttcgtcaag actcttaccg gcaagaccat cacccttgag
     1141 gtggaatcgt ccgacactat cgacaacgtc aagcaaaaga tccaagacaa ggagggcatt
     1201 cctcccgatc agcagcgtct cattttcgcc ggcaagcagc ttgaagacgg ccgcactttg
     1261 agcgactaca acattcagaa ggagtctacc cttcatctcg ttcttcgtct acgcggtggt
     1321 atgcagattt tcgttaagac gcttaccggc aagacgatta ctctcgaggt tgagtcttcc
     1381 gacaccatcg acaacgtaaa gcaaaagatc caggacaagg agggtatccc acctgatcag
     1441 cagcgtctca ttttcgctgg aaagcagctc gaggatggtc gcaccctctc cgactacaac
     1501 attcagaagg agagcaccct gcacttggtg ctccgtcttc gtggtggtat gcagattttc
     1561 gtcaagacct tgacgggcaa gacgattacg ctggaagtcg agtcttcgga tacgattgat
     1621 aacgtgaagc aaaagatcca ggacaaggag ggtatcccgc ctgaccagca gcgtctgatc
     1681 tttgctggta agcagttgga ggatggccgg accctctctg attacaacat tcagaaggag
     1741 agcactcttc acttggtgct gcgcctccgt ggcggccagt aagcggattg tcgtctttgt
     1801 ttctgattct tgatgacgag caagggttca tttgggcgtt cagcgtttat tgggttactt
     1861 attgcatcca tgggttggga aatgatgaca accatgaaac agggcatatc taggccgaat
     1921 ctaatggcac acgcttcata catacagcga tgccataata aagactatat ttacggtctc
     1981 aaacatgatg tctcttggtg atttgcttgt gtctcaattc gtgagctttt gttattcccg
     2041 tcaacctgtc atctggtcaa ttggggatgg agtcggacgt gtaagtcaag atggtggtgc
     2101 agtgggttgg tacacaccgt gcgaggtgac cgttgcgtgg ccgaaagtgg cgcccttttt
     2161 ggtggacaag atgcatcata cgtgaaagat acgtaccgac cgccgagttc agttgcgcta
     2221 gtccggccgt ggagccctcc ctccccccc
//


